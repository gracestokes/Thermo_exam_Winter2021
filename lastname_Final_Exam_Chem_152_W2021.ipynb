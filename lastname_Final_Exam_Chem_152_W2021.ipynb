{
  "nbformat": 4,
  "nbformat_minor": 0,
  "metadata": {
    "colab": {
      "name": "lastname Final Exam Chem 152 W2021.ipynb",
      "provenance": [],
      "collapsed_sections": []
    },
    "kernelspec": {
      "name": "python3",
      "display_name": "Python 3"
    }
  },
  "cells": [
    {
      "cell_type": "markdown",
      "metadata": {
        "id": "6eTJK7bkmjYI"
      },
      "source": [
        "## Honor Code Information. \n",
        "\n",
        "You may use your OWN Python exercises and your double-sided cheat sheet as a reference.\n",
        "<p>DO NOT search the internet for help or seek help from any other person, textbook, notes, or website (including CAMINO). \n",
        "\n",
        "#### Time Limit: 20 minutes\n",
        "#### First, you will import some resources"
      ]
    },
    {
      "cell_type": "code",
      "metadata": {
        "id": "Ub7Ogp57CP75"
      },
      "source": [
        "pip install plotly"
      ],
      "execution_count": null,
      "outputs": []
    },
    {
      "cell_type": "code",
      "metadata": {
        "id": "xbzqj4IYmdCv"
      },
      "source": [
        "# Execute this cell with shift-enter or by left-clicking the \"play button\" to the left. \n",
        "import numpy as np\n",
        "import matplotlib.pyplot as plt\n",
        "import plotly.graph_objects as go"
      ],
      "execution_count": null,
      "outputs": []
    },
    {
      "cell_type": "markdown",
      "metadata": {
        "id": "FouH_kE_msKd"
      },
      "source": [
        "#### Problem 1: (25 points) Plot and numerically integrate the area under the curve of a simple distribution function.\n",
        "\n",
        "In Python Exercise 3, we examined the Maxwell-Boltzmann distribution of speeds for molecules.\n",
        "<p>Here is a simpler distribution function, $f(v)$, where $v$ represents a range of speeds between 0 to 2 m/s. \n",
        "\n",
        "<p style='text-align: right;'>\n",
        "$ f(v) = -v^3 + 2v^2 $\n",
        "\n",
        "</p>\n",
        "<p style='text-align: right;'>\n",
        "Assume that $f(v)$ represents the distribution of gas molecules which have a certain speed, and that when $v < 0$ or $v > 2$, $f(v) = 0$. </p>\n",
        "\n",
        "In the two cells below:\n",
        "<p>1) Calculate the area under the curve f(v) between the limits of $v=0$ and $v=2$. \n",
        "<p>2) Make a 2-D plot of the distribution function $f(v)$ using matplotlib. Ensure the data are red, and the graph has appropriate x- and y-labels, a title and a grid.</p> "
      ]
    },
    {
      "cell_type": "code",
      "metadata": {
        "id": "KuZttmpNmq50"
      },
      "source": [
        "# Lay out an array of values for v from 0 to 2 in increments of 0.04 \n",
        "# when you print the array, Python should show you [0., 0.04, 0.08, 0.12, ... , 2.]\n",
        "\n",
        "\n",
        "\n",
        "# Evaluate f(v)=-v^3+2v^2 over the range given for v\n",
        "\n",
        "\n",
        "# Find the area under the f(v) curve between 0 and 2 \n",
        "# Print the statement \"The area under the curve f is [area].\" \n",
        "\n",
        "\n",
        "\n"
      ],
      "execution_count": null,
      "outputs": []
    },
    {
      "cell_type": "code",
      "metadata": {
        "id": "uYRxJhJbwrDp"
      },
      "source": [
        "# Plot the graph f(v) using matplotlib and make sure the trace is red\n",
        "# Add gridlines\n",
        "# Label the x and y axes (include units: note that speed has units but speed distributions have no units)\n",
        "# Title the graph \"Simple distribution function\""
      ],
      "execution_count": null,
      "outputs": []
    },
    {
      "cell_type": "markdown",
      "metadata": {
        "id": "0n24jRzVrBOg"
      },
      "source": [
        "#### Problem 2 (worth 5 points): Make a function that has two dependent variables. \n",
        "A Berthelot gas is defined by the following equation of state: \n",
        "\n",
        "$P = {RT \\over V-b} - {a \\over TV^2}$  \n",
        "\n",
        "In the cell below, you will provide the first part of code needed to make a 3-d graph of this Berthelot gas pressure as a function of volume and temperature.\n",
        "\n",
        "Instructions:\n",
        "1. Make an array of volumes between 4.9L and 40.2 L. \n",
        "2. Make an array of temperatures between 249 K to 351 K. \n",
        "3. Make sure you have 100 values in each array. \n",
        "4. Make your arrays into a Pressure grid (denoted Pgrid). \n",
        "5. I will provide the code to make the 3D plot using plotly below.\n"
      ]
    },
    {
      "cell_type": "code",
      "metadata": {
        "id": "XCNGVctb6lx9"
      },
      "source": [
        "# Here are some parameters (don't change these 3 lines)\n",
        "a = 600.\n",
        "b = 0.04\n",
        "R = 0.08208 #atm Liters per mole Kelvin\n",
        "\n",
        "# Lay out a range of volumes and temperatures as simple arrays\n",
        "V_array =  ...  #Volume in liters\n",
        "T_array =  ...  #Temperature in Kelvin\n",
        "\n",
        "# Make these arrays into grids\n",
        "Vgrid,Tgrid = ...\n",
        "\n",
        "# Evaluate the Berthelot pressure on this grid \n",
        "Pgrid = ...\n"
      ],
      "execution_count": null,
      "outputs": []
    },
    {
      "cell_type": "code",
      "metadata": {
        "id": "X_nFHpl2A5zi"
      },
      "source": [
        "# In this cell, I provide the plotly code you can use to make a 3D graph you can simply hit \"play button\" on the left\n",
        "# Don't change the code in this cell\n",
        "# Just hit \"play\" and it should work (if the code above is laid out correctly)\n",
        "figure_data = [\n",
        "               go.Surface(z=Pgrid, x=Vgrid, y=Tgrid),\n",
        "]\n",
        "\n",
        "# Create the figure with the data\n",
        "fig = go.Figure(data=figure_data)\n",
        "\n",
        "# Add title and label axes\n",
        "fig.update_layout(title = 'This 3-D plot shows how Berthelot gas pressure varies with V and T',\n",
        "                  scene = dict(\n",
        "                    xaxis_title='Volume (Liters)',\n",
        "                    yaxis_title='Temperature (K)',\n",
        "                    zaxis_title='Pressure (atm)'),\n",
        "                    )\n",
        "fig.show()"
      ],
      "execution_count": null,
      "outputs": []
    },
    {
      "cell_type": "markdown",
      "metadata": {
        "id": "TOc6PHBNydcS"
      },
      "source": [
        "This is the end of the Python portion of your Final Exam."
      ]
    }
  ]
}